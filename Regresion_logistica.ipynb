{
  "nbformat": 4,
  "nbformat_minor": 0,
  "metadata": {
    "colab": {
      "provenance": []
    },
    "kernelspec": {
      "name": "python3",
      "display_name": "Python 3"
    },
    "language_info": {
      "name": "python"
    }
  },
  "cells": [
    {
      "cell_type": "code",
      "source": [
        "import pandas as pd\n",
        "import numpy as np\n",
        "import matplotlib.pyplot as plt\n",
        "import seaborn as sns\n",
        "from scipy import stats\n",
        "import missingno as msno\n",
        "from sklearn.model_selection import train_test_split\n",
        "from sklearn.linear_model import LinearRegression\n",
        "from sklearn.metrics import mean_squared_error, r2_score\n",
        "from sklearn.preprocessing import LabelEncoder\n",
        "import os\n",
        "import re"
      ],
      "metadata": {
        "id": "HjJuKM-UA2Qn"
      },
      "execution_count": 1,
      "outputs": []
    },
    {
      "cell_type": "code",
      "source": [
        "df_clean_data = pd.read_csv('df_final_encoded.csv')\n",
        "df_clean_data.head()"
      ],
      "metadata": {
        "colab": {
          "base_uri": "https://localhost:8080/",
          "height": 226
        },
        "id": "Xb7VKWboAqqA",
        "outputId": "d3fe475a-04f3-4529-ffb6-697033fceb71"
      },
      "execution_count": 2,
      "outputs": [
        {
          "output_type": "execute_result",
          "data": {
            "text/plain": [
              "   year  schizophrenia_disorders  depressive_disorders  anxiety_disorders  \\\n",
              "0  1990                 0.223206              4.996118           4.713314   \n",
              "1  1991                 0.222454              4.989290           4.702100   \n",
              "2  1992                 0.221751              4.981346           4.683743   \n",
              "3  1993                 0.220987              4.976958           4.673549   \n",
              "4  1994                 0.220183              4.977782           4.670810   \n",
              "\n",
              "   bipolar_disorders  eating_disorders  dalys_depressive_disorders  \\\n",
              "0           0.703023          0.127700                   895.22565   \n",
              "1           0.702069          0.123256                   893.88434   \n",
              "2           0.700792          0.118844                   892.34973   \n",
              "3           0.700087          0.115089                   891.51587   \n",
              "4           0.699898          0.111815                   891.39160   \n",
              "\n",
              "   dalys_schizophrenia  dalys_bipolar_disorder  dalys_eating_disorders  \\\n",
              "0            138.24825               147.64412               26.471115   \n",
              "1            137.76122               147.56696               25.548681   \n",
              "2            137.08030               147.13086               24.637949   \n",
              "3            136.48602               146.78812               23.863169   \n",
              "4            136.18323               146.58481               23.189074   \n",
              "\n",
              "   dalys_anxiety_disorders  entity_encoded  \n",
              "0                440.33000               0  \n",
              "1                439.47202               0  \n",
              "2                437.60718               0  \n",
              "3                436.69104               0  \n",
              "4                436.76800               0  "
            ],
            "text/html": [
              "\n",
              "  <div id=\"df-213e17f9-689c-429c-9c5b-d5380382511e\" class=\"colab-df-container\">\n",
              "    <div>\n",
              "<style scoped>\n",
              "    .dataframe tbody tr th:only-of-type {\n",
              "        vertical-align: middle;\n",
              "    }\n",
              "\n",
              "    .dataframe tbody tr th {\n",
              "        vertical-align: top;\n",
              "    }\n",
              "\n",
              "    .dataframe thead th {\n",
              "        text-align: right;\n",
              "    }\n",
              "</style>\n",
              "<table border=\"1\" class=\"dataframe\">\n",
              "  <thead>\n",
              "    <tr style=\"text-align: right;\">\n",
              "      <th></th>\n",
              "      <th>year</th>\n",
              "      <th>schizophrenia_disorders</th>\n",
              "      <th>depressive_disorders</th>\n",
              "      <th>anxiety_disorders</th>\n",
              "      <th>bipolar_disorders</th>\n",
              "      <th>eating_disorders</th>\n",
              "      <th>dalys_depressive_disorders</th>\n",
              "      <th>dalys_schizophrenia</th>\n",
              "      <th>dalys_bipolar_disorder</th>\n",
              "      <th>dalys_eating_disorders</th>\n",
              "      <th>dalys_anxiety_disorders</th>\n",
              "      <th>entity_encoded</th>\n",
              "    </tr>\n",
              "  </thead>\n",
              "  <tbody>\n",
              "    <tr>\n",
              "      <th>0</th>\n",
              "      <td>1990</td>\n",
              "      <td>0.223206</td>\n",
              "      <td>4.996118</td>\n",
              "      <td>4.713314</td>\n",
              "      <td>0.703023</td>\n",
              "      <td>0.127700</td>\n",
              "      <td>895.22565</td>\n",
              "      <td>138.24825</td>\n",
              "      <td>147.64412</td>\n",
              "      <td>26.471115</td>\n",
              "      <td>440.33000</td>\n",
              "      <td>0</td>\n",
              "    </tr>\n",
              "    <tr>\n",
              "      <th>1</th>\n",
              "      <td>1991</td>\n",
              "      <td>0.222454</td>\n",
              "      <td>4.989290</td>\n",
              "      <td>4.702100</td>\n",
              "      <td>0.702069</td>\n",
              "      <td>0.123256</td>\n",
              "      <td>893.88434</td>\n",
              "      <td>137.76122</td>\n",
              "      <td>147.56696</td>\n",
              "      <td>25.548681</td>\n",
              "      <td>439.47202</td>\n",
              "      <td>0</td>\n",
              "    </tr>\n",
              "    <tr>\n",
              "      <th>2</th>\n",
              "      <td>1992</td>\n",
              "      <td>0.221751</td>\n",
              "      <td>4.981346</td>\n",
              "      <td>4.683743</td>\n",
              "      <td>0.700792</td>\n",
              "      <td>0.118844</td>\n",
              "      <td>892.34973</td>\n",
              "      <td>137.08030</td>\n",
              "      <td>147.13086</td>\n",
              "      <td>24.637949</td>\n",
              "      <td>437.60718</td>\n",
              "      <td>0</td>\n",
              "    </tr>\n",
              "    <tr>\n",
              "      <th>3</th>\n",
              "      <td>1993</td>\n",
              "      <td>0.220987</td>\n",
              "      <td>4.976958</td>\n",
              "      <td>4.673549</td>\n",
              "      <td>0.700087</td>\n",
              "      <td>0.115089</td>\n",
              "      <td>891.51587</td>\n",
              "      <td>136.48602</td>\n",
              "      <td>146.78812</td>\n",
              "      <td>23.863169</td>\n",
              "      <td>436.69104</td>\n",
              "      <td>0</td>\n",
              "    </tr>\n",
              "    <tr>\n",
              "      <th>4</th>\n",
              "      <td>1994</td>\n",
              "      <td>0.220183</td>\n",
              "      <td>4.977782</td>\n",
              "      <td>4.670810</td>\n",
              "      <td>0.699898</td>\n",
              "      <td>0.111815</td>\n",
              "      <td>891.39160</td>\n",
              "      <td>136.18323</td>\n",
              "      <td>146.58481</td>\n",
              "      <td>23.189074</td>\n",
              "      <td>436.76800</td>\n",
              "      <td>0</td>\n",
              "    </tr>\n",
              "  </tbody>\n",
              "</table>\n",
              "</div>\n",
              "    <div class=\"colab-df-buttons\">\n",
              "\n",
              "  <div class=\"colab-df-container\">\n",
              "    <button class=\"colab-df-convert\" onclick=\"convertToInteractive('df-213e17f9-689c-429c-9c5b-d5380382511e')\"\n",
              "            title=\"Convert this dataframe to an interactive table.\"\n",
              "            style=\"display:none;\">\n",
              "\n",
              "  <svg xmlns=\"http://www.w3.org/2000/svg\" height=\"24px\" viewBox=\"0 -960 960 960\">\n",
              "    <path d=\"M120-120v-720h720v720H120Zm60-500h600v-160H180v160Zm220 220h160v-160H400v160Zm0 220h160v-160H400v160ZM180-400h160v-160H180v160Zm440 0h160v-160H620v160ZM180-180h160v-160H180v160Zm440 0h160v-160H620v160Z\"/>\n",
              "  </svg>\n",
              "    </button>\n",
              "\n",
              "  <style>\n",
              "    .colab-df-container {\n",
              "      display:flex;\n",
              "      gap: 12px;\n",
              "    }\n",
              "\n",
              "    .colab-df-convert {\n",
              "      background-color: #E8F0FE;\n",
              "      border: none;\n",
              "      border-radius: 50%;\n",
              "      cursor: pointer;\n",
              "      display: none;\n",
              "      fill: #1967D2;\n",
              "      height: 32px;\n",
              "      padding: 0 0 0 0;\n",
              "      width: 32px;\n",
              "    }\n",
              "\n",
              "    .colab-df-convert:hover {\n",
              "      background-color: #E2EBFA;\n",
              "      box-shadow: 0px 1px 2px rgba(60, 64, 67, 0.3), 0px 1px 3px 1px rgba(60, 64, 67, 0.15);\n",
              "      fill: #174EA6;\n",
              "    }\n",
              "\n",
              "    .colab-df-buttons div {\n",
              "      margin-bottom: 4px;\n",
              "    }\n",
              "\n",
              "    [theme=dark] .colab-df-convert {\n",
              "      background-color: #3B4455;\n",
              "      fill: #D2E3FC;\n",
              "    }\n",
              "\n",
              "    [theme=dark] .colab-df-convert:hover {\n",
              "      background-color: #434B5C;\n",
              "      box-shadow: 0px 1px 3px 1px rgba(0, 0, 0, 0.15);\n",
              "      filter: drop-shadow(0px 1px 2px rgba(0, 0, 0, 0.3));\n",
              "      fill: #FFFFFF;\n",
              "    }\n",
              "  </style>\n",
              "\n",
              "    <script>\n",
              "      const buttonEl =\n",
              "        document.querySelector('#df-213e17f9-689c-429c-9c5b-d5380382511e button.colab-df-convert');\n",
              "      buttonEl.style.display =\n",
              "        google.colab.kernel.accessAllowed ? 'block' : 'none';\n",
              "\n",
              "      async function convertToInteractive(key) {\n",
              "        const element = document.querySelector('#df-213e17f9-689c-429c-9c5b-d5380382511e');\n",
              "        const dataTable =\n",
              "          await google.colab.kernel.invokeFunction('convertToInteractive',\n",
              "                                                    [key], {});\n",
              "        if (!dataTable) return;\n",
              "\n",
              "        const docLinkHtml = 'Like what you see? Visit the ' +\n",
              "          '<a target=\"_blank\" href=https://colab.research.google.com/notebooks/data_table.ipynb>data table notebook</a>'\n",
              "          + ' to learn more about interactive tables.';\n",
              "        element.innerHTML = '';\n",
              "        dataTable['output_type'] = 'display_data';\n",
              "        await google.colab.output.renderOutput(dataTable, element);\n",
              "        const docLink = document.createElement('div');\n",
              "        docLink.innerHTML = docLinkHtml;\n",
              "        element.appendChild(docLink);\n",
              "      }\n",
              "    </script>\n",
              "  </div>\n",
              "\n",
              "\n",
              "    <div id=\"df-88e6c8c3-efcb-4e56-baac-8115dd810af8\">\n",
              "      <button class=\"colab-df-quickchart\" onclick=\"quickchart('df-88e6c8c3-efcb-4e56-baac-8115dd810af8')\"\n",
              "                title=\"Suggest charts\"\n",
              "                style=\"display:none;\">\n",
              "\n",
              "<svg xmlns=\"http://www.w3.org/2000/svg\" height=\"24px\"viewBox=\"0 0 24 24\"\n",
              "     width=\"24px\">\n",
              "    <g>\n",
              "        <path d=\"M19 3H5c-1.1 0-2 .9-2 2v14c0 1.1.9 2 2 2h14c1.1 0 2-.9 2-2V5c0-1.1-.9-2-2-2zM9 17H7v-7h2v7zm4 0h-2V7h2v10zm4 0h-2v-4h2v4z\"/>\n",
              "    </g>\n",
              "</svg>\n",
              "      </button>\n",
              "\n",
              "<style>\n",
              "  .colab-df-quickchart {\n",
              "      --bg-color: #E8F0FE;\n",
              "      --fill-color: #1967D2;\n",
              "      --hover-bg-color: #E2EBFA;\n",
              "      --hover-fill-color: #174EA6;\n",
              "      --disabled-fill-color: #AAA;\n",
              "      --disabled-bg-color: #DDD;\n",
              "  }\n",
              "\n",
              "  [theme=dark] .colab-df-quickchart {\n",
              "      --bg-color: #3B4455;\n",
              "      --fill-color: #D2E3FC;\n",
              "      --hover-bg-color: #434B5C;\n",
              "      --hover-fill-color: #FFFFFF;\n",
              "      --disabled-bg-color: #3B4455;\n",
              "      --disabled-fill-color: #666;\n",
              "  }\n",
              "\n",
              "  .colab-df-quickchart {\n",
              "    background-color: var(--bg-color);\n",
              "    border: none;\n",
              "    border-radius: 50%;\n",
              "    cursor: pointer;\n",
              "    display: none;\n",
              "    fill: var(--fill-color);\n",
              "    height: 32px;\n",
              "    padding: 0;\n",
              "    width: 32px;\n",
              "  }\n",
              "\n",
              "  .colab-df-quickchart:hover {\n",
              "    background-color: var(--hover-bg-color);\n",
              "    box-shadow: 0 1px 2px rgba(60, 64, 67, 0.3), 0 1px 3px 1px rgba(60, 64, 67, 0.15);\n",
              "    fill: var(--button-hover-fill-color);\n",
              "  }\n",
              "\n",
              "  .colab-df-quickchart-complete:disabled,\n",
              "  .colab-df-quickchart-complete:disabled:hover {\n",
              "    background-color: var(--disabled-bg-color);\n",
              "    fill: var(--disabled-fill-color);\n",
              "    box-shadow: none;\n",
              "  }\n",
              "\n",
              "  .colab-df-spinner {\n",
              "    border: 2px solid var(--fill-color);\n",
              "    border-color: transparent;\n",
              "    border-bottom-color: var(--fill-color);\n",
              "    animation:\n",
              "      spin 1s steps(1) infinite;\n",
              "  }\n",
              "\n",
              "  @keyframes spin {\n",
              "    0% {\n",
              "      border-color: transparent;\n",
              "      border-bottom-color: var(--fill-color);\n",
              "      border-left-color: var(--fill-color);\n",
              "    }\n",
              "    20% {\n",
              "      border-color: transparent;\n",
              "      border-left-color: var(--fill-color);\n",
              "      border-top-color: var(--fill-color);\n",
              "    }\n",
              "    30% {\n",
              "      border-color: transparent;\n",
              "      border-left-color: var(--fill-color);\n",
              "      border-top-color: var(--fill-color);\n",
              "      border-right-color: var(--fill-color);\n",
              "    }\n",
              "    40% {\n",
              "      border-color: transparent;\n",
              "      border-right-color: var(--fill-color);\n",
              "      border-top-color: var(--fill-color);\n",
              "    }\n",
              "    60% {\n",
              "      border-color: transparent;\n",
              "      border-right-color: var(--fill-color);\n",
              "    }\n",
              "    80% {\n",
              "      border-color: transparent;\n",
              "      border-right-color: var(--fill-color);\n",
              "      border-bottom-color: var(--fill-color);\n",
              "    }\n",
              "    90% {\n",
              "      border-color: transparent;\n",
              "      border-bottom-color: var(--fill-color);\n",
              "    }\n",
              "  }\n",
              "</style>\n",
              "\n",
              "      <script>\n",
              "        async function quickchart(key) {\n",
              "          const quickchartButtonEl =\n",
              "            document.querySelector('#' + key + ' button');\n",
              "          quickchartButtonEl.disabled = true;  // To prevent multiple clicks.\n",
              "          quickchartButtonEl.classList.add('colab-df-spinner');\n",
              "          try {\n",
              "            const charts = await google.colab.kernel.invokeFunction(\n",
              "                'suggestCharts', [key], {});\n",
              "          } catch (error) {\n",
              "            console.error('Error during call to suggestCharts:', error);\n",
              "          }\n",
              "          quickchartButtonEl.classList.remove('colab-df-spinner');\n",
              "          quickchartButtonEl.classList.add('colab-df-quickchart-complete');\n",
              "        }\n",
              "        (() => {\n",
              "          let quickchartButtonEl =\n",
              "            document.querySelector('#df-88e6c8c3-efcb-4e56-baac-8115dd810af8 button');\n",
              "          quickchartButtonEl.style.display =\n",
              "            google.colab.kernel.accessAllowed ? 'block' : 'none';\n",
              "        })();\n",
              "      </script>\n",
              "    </div>\n",
              "\n",
              "    </div>\n",
              "  </div>\n"
            ],
            "application/vnd.google.colaboratory.intrinsic+json": {
              "type": "dataframe",
              "variable_name": "df_clean_data",
              "summary": "{\n  \"name\": \"df_clean_data\",\n  \"rows\": 6150,\n  \"fields\": [\n    {\n      \"column\": \"year\",\n      \"properties\": {\n        \"dtype\": \"number\",\n        \"std\": 8,\n        \"min\": 1990,\n        \"max\": 2019,\n        \"num_unique_values\": 30,\n        \"samples\": [\n          2017,\n          2005,\n          2013\n        ],\n        \"semantic_type\": \"\",\n        \"description\": \"\"\n      }\n    },\n    {\n      \"column\": \"schizophrenia_disorders\",\n      \"properties\": {\n        \"dtype\": \"number\",\n        \"std\": 0.03925827784908431,\n        \"min\": 0.18841599,\n        \"max\": 0.4620453,\n        \"num_unique_values\": 6137,\n        \"samples\": [\n          0.27253744,\n          0.20130596,\n          0.27873915\n        ],\n        \"semantic_type\": \"\",\n        \"description\": \"\"\n      }\n    },\n    {\n      \"column\": \"depressive_disorders\",\n      \"properties\": {\n        \"dtype\": \"number\",\n        \"std\": 0.9396169188419001,\n        \"min\": 1.5223331,\n        \"max\": 7.6458993,\n        \"num_unique_values\": 6146,\n        \"samples\": [\n          3.9437997,\n          5.0429273,\n          3.427719\n        ],\n        \"semantic_type\": \"\",\n        \"description\": \"\"\n      }\n    },\n    {\n      \"column\": \"anxiety_disorders\",\n      \"properties\": {\n        \"dtype\": \"number\",\n        \"std\": 1.0606419951807862,\n        \"min\": 1.8799964,\n        \"max\": 8.624634,\n        \"num_unique_values\": 6147,\n        \"samples\": [\n          4.4827275,\n          4.34003,\n          4.5533485\n        ],\n        \"semantic_type\": \"\",\n        \"description\": \"\"\n      }\n    },\n    {\n      \"column\": \"bipolar_disorders\",\n      \"properties\": {\n        \"dtype\": \"number\",\n        \"std\": 0.23550568139772163,\n        \"min\": 0.18166696,\n        \"max\": 1.5067295,\n        \"num_unique_values\": 6115,\n        \"samples\": [\n          0.90886897,\n          0.91647846,\n          0.49959868\n        ],\n        \"semantic_type\": \"\",\n        \"description\": \"\"\n      }\n    },\n    {\n      \"column\": \"eating_disorders\",\n      \"properties\": {\n        \"dtype\": \"number\",\n        \"std\": 0.1390511236953314,\n        \"min\": 0.044780303,\n        \"max\": 1.0316882,\n        \"num_unique_values\": 6147,\n        \"samples\": [\n          0.2904809,\n          0.16824934,\n          0.13030624\n        ],\n        \"semantic_type\": \"\",\n        \"description\": \"\"\n      }\n    },\n    {\n      \"column\": \"dalys_depressive_disorders\",\n      \"properties\": {\n        \"dtype\": \"number\",\n        \"std\": 189.88172706008746,\n        \"min\": 243.09784,\n        \"max\": 1427.4236,\n        \"num_unique_values\": 6147,\n        \"samples\": [\n          696.2012,\n          944.1105,\n          566.6438\n        ],\n        \"semantic_type\": \"\",\n        \"description\": \"\"\n      }\n    },\n    {\n      \"column\": \"dalys_schizophrenia\",\n      \"properties\": {\n        \"dtype\": \"number\",\n        \"std\": 25.57418856699678,\n        \"min\": 119.91338,\n        \"max\": 291.1001,\n        \"num_unique_values\": 6147,\n        \"samples\": [\n          159.33241,\n          163.87762,\n          199.28622\n        ],\n        \"semantic_type\": \"\",\n        \"description\": \"\"\n      }\n    },\n    {\n      \"column\": \"dalys_bipolar_disorder\",\n      \"properties\": {\n        \"dtype\": \"number\",\n        \"std\": 50.977135715732516,\n        \"min\": 39.438133,\n        \"max\": 325.1528,\n        \"num_unique_values\": 6147,\n        \"samples\": [\n          172.0132,\n          186.33862,\n          73.42911\n        ],\n        \"semantic_type\": \"\",\n        \"description\": \"\"\n      }\n    },\n    {\n      \"column\": \"dalys_eating_disorders\",\n      \"properties\": {\n        \"dtype\": \"number\",\n        \"std\": 29.615846447046255,\n        \"min\": 9.671199,\n        \"max\": 218.70439,\n        \"num_unique_values\": 6149,\n        \"samples\": [\n          20.347599,\n          22.760124,\n          44.86127\n        ],\n        \"semantic_type\": \"\",\n        \"description\": \"\"\n      }\n    },\n    {\n      \"column\": \"dalys_anxiety_disorders\",\n      \"properties\": {\n        \"dtype\": \"number\",\n        \"std\": 101.5131407646572,\n        \"min\": 180.04964,\n        \"max\": 814.3023,\n        \"num_unique_values\": 6149,\n        \"samples\": [\n          318.89365,\n          302.6946,\n          389.68076\n        ],\n        \"semantic_type\": \"\",\n        \"description\": \"\"\n      }\n    },\n    {\n      \"column\": \"entity_encoded\",\n      \"properties\": {\n        \"dtype\": \"number\",\n        \"std\": 59,\n        \"min\": 0,\n        \"max\": 204,\n        \"num_unique_values\": 205,\n        \"samples\": [\n          15,\n          9,\n          100\n        ],\n        \"semantic_type\": \"\",\n        \"description\": \"\"\n      }\n    }\n  ]\n}"
            }
          },
          "metadata": {},
          "execution_count": 2
        }
      ]
    },
    {
      "cell_type": "code",
      "source": [
        "df_clean_data.info()"
      ],
      "metadata": {
        "colab": {
          "base_uri": "https://localhost:8080/"
        },
        "id": "2BcL8a_eX5zr",
        "outputId": "87e20e12-fd4a-4163-e645-cd9881016ff6"
      },
      "execution_count": 4,
      "outputs": [
        {
          "output_type": "stream",
          "name": "stdout",
          "text": [
            "<class 'pandas.core.frame.DataFrame'>\n",
            "RangeIndex: 6150 entries, 0 to 6149\n",
            "Data columns (total 12 columns):\n",
            " #   Column                      Non-Null Count  Dtype  \n",
            "---  ------                      --------------  -----  \n",
            " 0   year                        6150 non-null   int64  \n",
            " 1   schizophrenia_disorders     6150 non-null   float64\n",
            " 2   depressive_disorders        6150 non-null   float64\n",
            " 3   anxiety_disorders           6150 non-null   float64\n",
            " 4   bipolar_disorders           6150 non-null   float64\n",
            " 5   eating_disorders            6150 non-null   float64\n",
            " 6   dalys_depressive_disorders  6150 non-null   float64\n",
            " 7   dalys_schizophrenia         6150 non-null   float64\n",
            " 8   dalys_bipolar_disorder      6150 non-null   float64\n",
            " 9   dalys_eating_disorders      6150 non-null   float64\n",
            " 10  dalys_anxiety_disorders     6150 non-null   float64\n",
            " 11  entity_encoded              6150 non-null   int64  \n",
            "dtypes: float64(10), int64(2)\n",
            "memory usage: 576.7 KB\n"
          ]
        }
      ]
    },
    {
      "cell_type": "code",
      "execution_count": 5,
      "metadata": {
        "colab": {
          "base_uri": "https://localhost:8080/"
        },
        "id": "Bnvwnda18giL",
        "outputId": "a395fa20-b6ee-4405-eabf-1ec8701bbd7f"
      },
      "outputs": [
        {
          "output_type": "execute_result",
          "data": {
            "text/plain": [
              "(array([[611,   2],\n",
              "        [  2, 615]]),\n",
              " '              precision    recall  f1-score   support\\n\\n           0       1.00      1.00      1.00       613\\n           1       1.00      1.00      1.00       617\\n\\n    accuracy                           1.00      1230\\n   macro avg       1.00      1.00      1.00      1230\\nweighted avg       1.00      1.00      1.00      1230\\n',\n",
              " np.float64(0.9999550527337192))"
            ]
          },
          "metadata": {},
          "execution_count": 5
        }
      ],
      "source": [
        "from sklearn.preprocessing import StandardScaler\n",
        "from sklearn.linear_model import LogisticRegression\n",
        "from sklearn.metrics import confusion_matrix, classification_report, roc_auc_score\n",
        "\n",
        "# Definir el umbral de la mediana para convertir en variable binaria\n",
        "threshold = df_clean_data['dalys_eating_disorders'].median()\n",
        "df_clean_data['target'] = (df_clean_data['dalys_eating_disorders'] >= threshold).astype(int)\n",
        "\n",
        "# Redefinir características y objetivo\n",
        "X = df_clean_data.drop(['year', 'anxiety_disorders', 'eating_disorders' ,'dalys_depressive_disorders', 'dalys_bipolar_disorder', 'dalys_anxiety_disorders', 'entity_encoded', 'target'], axis=1)\n",
        "y = df_clean_data['target'] # Use the 'target' column which is binary\n",
        "\n",
        "# Escalado de las características\n",
        "scaler = StandardScaler()\n",
        "X_scaled = scaler.fit_transform(X)\n",
        "\n",
        "# División del dataset en entrenamiento y prueba\n",
        "X_train, X_test, y_train, y_test = train_test_split(X_scaled, y, test_size=0.2, random_state=42)\n",
        "\n",
        "# Entrenamiento del modelo de regresión logística\n",
        "logreg = LogisticRegression()\n",
        "logreg.fit(X_train, y_train)\n",
        "\n",
        "# Predicciones\n",
        "y_pred = logreg.predict(X_test)\n",
        "y_proba = logreg.predict_proba(X_test)[:, 1]\n",
        "\n",
        "# Evaluación del modelo\n",
        "conf_matrix = confusion_matrix(y_test, y_pred)\n",
        "class_report = classification_report(y_test, y_pred)\n",
        "roc_auc = roc_auc_score(y_test, y_proba)\n",
        "\n",
        "conf_matrix, class_report, roc_auc\n"
      ]
    },
    {
      "cell_type": "code",
      "source": [
        "import seaborn as sns\n",
        "corr_matrix = df_clean_data.corr()\n",
        "sns.heatmap(corr_matrix[['target']], annot=True, cmap='coolwarm')"
      ],
      "metadata": {
        "colab": {
          "base_uri": "https://localhost:8080/",
          "height": 452
        },
        "id": "4PkChgaZHj_e",
        "outputId": "997b0a4d-02f9-473c-cc0b-a06a897f892c"
      },
      "execution_count": 6,
      "outputs": [
        {
          "output_type": "execute_result",
          "data": {
            "text/plain": [
              "<Axes: >"
            ]
          },
          "metadata": {},
          "execution_count": 6
        },
        {
          "output_type": "display_data",
          "data": {
            "text/plain": [
              "<Figure size 640x480 with 2 Axes>"
            ],
            "image/png": "[encoded data removed]"
          },
          "metadata": {}
        }
      ]
    },
    {
      "cell_type": "code",
      "source": [
        "# Variables a excluir (por posible leakage o redundancia)\n",
        "exclude_vars = [\n",
        "    'year',\n",
        "    'eating_disorders',          # Posible leakage (misma condición que el target)\n",
        "    'dalys_depressive_disorders',\n",
        "    'dalys_schizophrenia',\n",
        "    'dalys_bipolar_disorder',\n",
        "    'dalys_anxiety_disorders',\n",
        "    'entity_encoded',\n",
        "    'target'\n",
        "]\n",
        "\n",
        "# Definir X e y\n",
        "X = df_clean_data.drop(exclude_vars + ['dalys_eating_disorders'], axis=1)  # Predictores\n",
        "y = df_clean_data['dalys_eating_disorders']  # Variable objetivo"
      ],
      "metadata": {
        "id": "LcTIVUWjYhr2"
      },
      "execution_count": 7,
      "outputs": []
    },
    {
      "cell_type": "code",
      "source": [
        "import seaborn as sns\n",
        "import matplotlib.pyplot as plt\n",
        "\n",
        "# Correlación de cada variable con el target\n",
        "corr_with_target = X.corrwith(y).sort_values(ascending=False)\n",
        "print(\"Correlación con dalys_eating_disorders:\\n\", corr_with_target)\n",
        "\n",
        "# Heatmap de correlación entre predictores\n",
        "plt.figure(figsize=(8, 6))\n",
        "sns.heatmap(X.corr(), annot=True, cmap=\"coolwarm\", vmin=-1, vmax=1)\n",
        "plt.title(\"Correlación entre predictores\")\n",
        "plt.show()"
      ],
      "metadata": {
        "colab": {
          "base_uri": "https://localhost:8080/",
          "height": 802
        },
        "id": "2ztHLUQaYpsb",
        "outputId": "81af38f5-c02c-463c-e97a-1591b86a4022"
      },
      "execution_count": 8,
      "outputs": [
        {
          "output_type": "stream",
          "name": "stdout",
          "text": [
            "Correlación con dalys_eating_disorders:\n",
            " bipolar_disorders          0.672464\n",
            "anxiety_disorders          0.584395\n",
            "schizophrenia_disorders    0.496687\n",
            "depressive_disorders      -0.051787\n",
            "dtype: float64\n"
          ]
        },
        {
          "output_type": "display_data",
          "data": {
            "text/plain": [
              "<Figure size 800x600 with 2 Axes>"
            ],
            "image/png": "[encoded data removed]"
          },
          "metadata": {}
        }
      ]
    },
    {
      "cell_type": "code",
      "source": [
        "from sklearn.linear_model import LinearRegression\n",
        "from sklearn.model_selection import train_test_split\n",
        "from sklearn.metrics import mean_squared_error, r2_score\n",
        "\n",
        "# Dividir datos en train y test\n",
        "X_train, X_test, y_train, y_test = train_test_split(X, y, test_size=0.2, random_state=42)\n",
        "\n",
        "# Crear y entrenar modelo\n",
        "model = LinearRegression()\n",
        "model.fit(X_train, y_train)\n",
        "\n",
        "# Calculate MSE\n",
        "mse = mean_squared_error(y_test, y_pred)\n",
        "\n",
        "# Calculate RMSE from MSE\n",
        "rmse = np.sqrt(mse)\n",
        "\n",
        "print(f\"R² (Score): {r2_score(y_test, y_pred):.3f}\")\n",
        "print(f\"RMSE: {rmse:.3f}\")\n",
        "\n"
      ],
      "metadata": {
        "colab": {
          "base_uri": "https://localhost:8080/"
        },
        "id": "J-7mdhmkY9E5",
        "outputId": "d53a7abd-f3f0-4f23-82dd-fc65a29fea57"
      },
      "execution_count": 9,
      "outputs": [
        {
          "output_type": "stream",
          "name": "stdout",
          "text": [
            "R² (Score): -1.841\n",
            "RMSE: 51.711\n"
          ]
        }
      ]
    },
    {
      "cell_type": "code",
      "source": [
        "coef_df = pd.DataFrame({\n",
        "    'Variable': X.columns,\n",
        "    'Coeficiente': model.coef_\n",
        "}).sort_values('Coeficiente', key=abs, ascending=False)\n",
        "\n",
        "print(coef_df)"
      ],
      "metadata": {
        "colab": {
          "base_uri": "https://localhost:8080/"
        },
        "id": "Oi-U_yIXZxRk",
        "outputId": "ff565f47-7420-4c74-ca0e-3eec5ca68603"
      },
      "execution_count": 10,
      "outputs": [
        {
          "output_type": "stream",
          "name": "stdout",
          "text": [
            "                  Variable  Coeficiente\n",
            "0  schizophrenia_disorders   307.672814\n",
            "3        bipolar_disorders    66.817979\n",
            "2        anxiety_disorders     4.344749\n",
            "1     depressive_disorders     1.210170\n"
          ]
        }
      ]
    },
    {
      "cell_type": "code",
      "source": [
        "import pandas as pd\n",
        "from sklearn.model_selection import train_test_split\n",
        "\n",
        "# Crear target binario (1 = alto DALY, 0 = bajo DALY)\n",
        "threshold = df_clean_data['dalys_eating_disorders'].median()\n",
        "df_clean_data['target_eating'] = (df_clean_data['dalys_eating_disorders'] >= threshold).astype(int)\n",
        "\n",
        "# Verificar balanceo de clases\n",
        "print(df_clean_data['target_eating'].value_counts(normalize=True))"
      ],
      "metadata": {
        "colab": {
          "base_uri": "https://localhost:8080/"
        },
        "id": "wutYYNQGaY5Y",
        "outputId": "cd90b3de-2297-4dd0-c796-faae4c162ab5"
      },
      "execution_count": 11,
      "outputs": [
        {
          "output_type": "stream",
          "name": "stdout",
          "text": [
            "target_eating\n",
            "0    0.5\n",
            "1    0.5\n",
            "Name: proportion, dtype: float64\n"
          ]
        }
      ]
    },
    {
      "cell_type": "code",
      "source": [
        "# Variables a excluir\n",
        "exclude_vars = [\n",
        "    'year', 'entity_encoded', 'target',  # No predictivas\n",
        "    'eating_disorders',                  # Leakage (mismo trastorno que el target)\n",
        "    'dalys_depressive_disorders',        # Otras métricas DALY\n",
        "    'dalys_schizophrenia',\n",
        "    'dalys_bipolar_disorder',\n",
        "    'dalys_anxiety_disorders',\n",
        "    'dalys_eating_disorders'             # Target original (no el binario)\n",
        "]\n",
        "\n",
        "# Predictores (X) y target (y)\n",
        "X = df_clean_data.drop(exclude_vars + ['target_eating'], axis=1)\n",
        "y = df_clean_data['target_eating']\n",
        "\n",
        "# Mostrar variables seleccionadas\n",
        "print(\"Variables predictoras:\", X.columns.tolist())"
      ],
      "metadata": {
        "colab": {
          "base_uri": "https://localhost:8080/"
        },
        "id": "zGnRD9WJajPi",
        "outputId": "6821373b-2675-4218-97d4-42f7cbd458b6"
      },
      "execution_count": 12,
      "outputs": [
        {
          "output_type": "stream",
          "name": "stdout",
          "text": [
            "Variables predictoras: ['schizophrenia_disorders', 'depressive_disorders', 'anxiety_disorders', 'bipolar_disorders']\n"
          ]
        }
      ]
    },
    {
      "cell_type": "code",
      "source": [
        "from sklearn.preprocessing import StandardScaler\n",
        "\n",
        "# Escalar features (importante para regresión logística)\n",
        "scaler = StandardScaler()\n",
        "X_scaled = scaler.fit_transform(X)\n",
        "\n",
        "# Dividir datos\n",
        "X_train, X_test, y_train, y_test = train_test_split(X_scaled, y, test_size=0.2, random_state=42)"
      ],
      "metadata": {
        "id": "j8OzEYyzavHv"
      },
      "execution_count": 13,
      "outputs": []
    },
    {
      "cell_type": "code",
      "source": [
        "from sklearn.linear_model import LogisticRegression\n",
        "from sklearn.metrics import confusion_matrix, classification_report, roc_auc_score\n",
        "\n",
        "# Crear y entrenar modelo\n",
        "logreg = LogisticRegression(max_iter=1000)  # Aseguramos convergencia\n",
        "logreg.fit(X_train, y_train)\n",
        "\n",
        "# Predicciones\n",
        "y_pred = logreg.predict(X_test)\n",
        "y_proba = logreg.predict_proba(X_test)[:, 1]  # Probabilidades para clase 1\n",
        "\n",
        "# Matriz de confusión y reporte\n",
        "print(\"Matriz de Confusión:\\n\", confusion_matrix(y_test, y_pred))\n",
        "print(\"\\nReporte de Clasificación:\\n\", classification_report(y_test, y_pred))\n",
        "\n",
        "# AUC-ROC\n",
        "print(\"AUC-ROC:\", roc_auc_score(y_test, y_proba))"
      ],
      "metadata": {
        "colab": {
          "base_uri": "https://localhost:8080/"
        },
        "id": "5yzuQUwUa00l",
        "outputId": "35f110f5-2126-4568-d8d1-b72ec7c6047f"
      },
      "execution_count": 14,
      "outputs": [
        {
          "output_type": "stream",
          "name": "stdout",
          "text": [
            "Matriz de Confusión:\n",
            " [[567  46]\n",
            " [ 59 558]]\n",
            "\n",
            "Reporte de Clasificación:\n",
            "               precision    recall  f1-score   support\n",
            "\n",
            "           0       0.91      0.92      0.92       613\n",
            "           1       0.92      0.90      0.91       617\n",
            "\n",
            "    accuracy                           0.91      1230\n",
            "   macro avg       0.91      0.91      0.91      1230\n",
            "weighted avg       0.91      0.91      0.91      1230\n",
            "\n",
            "AUC-ROC: 0.9688436125968679\n"
          ]
        }
      ]
    },
    {
      "cell_type": "code",
      "source": [
        "# Revisar correlación entre variables predictoras y el target\n",
        "print(X.corrwith(y))"
      ],
      "metadata": {
        "colab": {
          "base_uri": "https://localhost:8080/"
        },
        "id": "KoP0qE79cM9N",
        "outputId": "c358e599-65af-4561-efde-44a01d761123"
      },
      "execution_count": 15,
      "outputs": [
        {
          "output_type": "stream",
          "name": "stdout",
          "text": [
            "schizophrenia_disorders    0.411097\n",
            "depressive_disorders      -0.103707\n",
            "anxiety_disorders          0.538503\n",
            "bipolar_disorders          0.702657\n",
            "dtype: float64\n"
          ]
        }
      ]
    },
    {
      "cell_type": "code",
      "source": [
        "# Coefficients\n",
        "coef_df = pd.DataFrame({\n",
        "    'Variable': X.columns,\n",
        "    'Coef': logreg.coef_[0]\n",
        "}).sort_values('Coef', key=abs, ascending=False)\n",
        "\n",
        "print(coef_df)"
      ],
      "metadata": {
        "colab": {
          "base_uri": "https://localhost:8080/"
        },
        "id": "l6YpI1cibPN_",
        "outputId": "8ba9c143-0db1-47a9-bfbd-92d0b2bef011"
      },
      "execution_count": 16,
      "outputs": [
        {
          "output_type": "stream",
          "name": "stdout",
          "text": [
            "                  Variable      Coef\n",
            "3        bipolar_disorders  2.787802\n",
            "0  schizophrenia_disorders  2.193922\n",
            "2        anxiety_disorders  0.813226\n",
            "1     depressive_disorders  0.082346\n"
          ]
        }
      ]
    },
    {
      "cell_type": "code",
      "source": [
        "from sklearn.model_selection import cross_val_score\n",
        "scores = cross_val_score(logreg, X_scaled, y, cv=5, scoring='roc_auc')\n",
        "print(\"AUC en CV:\", scores.mean())"
      ],
      "metadata": {
        "colab": {
          "base_uri": "https://localhost:8080/"
        },
        "id": "VJjmRRHAbadA",
        "outputId": "40954b9e-5f6f-454f-f688-819b11acaa8c"
      },
      "execution_count": 17,
      "outputs": [
        {
          "output_type": "stream",
          "name": "stdout",
          "text": [
            "AUC en CV: 0.9609147993918963\n"
          ]
        }
      ]
    },
    {
      "cell_type": "code",
      "source": [
        "from sklearn.dummy import DummyClassifier\n",
        "dummy = DummyClassifier(strategy='most_frequent')\n",
        "dummy.fit(X_train, y_train)\n",
        "print(\"AUC Baseline:\", roc_auc_score(y_test, dummy.predict_proba(X_test)[:, 1]))"
      ],
      "metadata": {
        "colab": {
          "base_uri": "https://localhost:8080/"
        },
        "id": "v0dKcwfSbh08",
        "outputId": "b5993a54-e5a2-49c9-a6ad-f66065b33bd2"
      },
      "execution_count": 18,
      "outputs": [
        {
          "output_type": "stream",
          "name": "stdout",
          "text": [
            "AUC Baseline: 0.5\n"
          ]
        }
      ]
    },
    {
      "cell_type": "code",
      "source": [
        "import pandas as pd\n",
        "\n",
        "# Calcular la prevalencia combinada (suma de porcentajes)\n",
        "df_clean_data['combined_prevalence'] = df_clean_data[['schizophrenia_disorders',\n",
        "                                'depressive_disorders',\n",
        "                                'anxiety_disorders',\n",
        "                                'bipolar_disorders',\n",
        "                                'eating_disorders']].sum(axis=1)\n",
        "\n",
        "# Crear target binario (1 si supera el 60%, 0 si no)\n",
        "threshold = 0.60  # Umbral del 60%\n",
        "df_clean_data['high_prevalence_country'] = (df_clean_data['combined_prevalence'] >= threshold).astype(int)\n",
        "\n",
        "# Ver distribución\n",
        "print(df_clean_data['high_prevalence_country'].value_counts(normalize=True))"
      ],
      "metadata": {
        "colab": {
          "base_uri": "https://localhost:8080/"
        },
        "id": "AZinCKODA2dz",
        "outputId": "a584d4e9-6ef3-4d6f-c1dc-60b3e8629083"
      },
      "execution_count": 19,
      "outputs": [
        {
          "output_type": "stream",
          "name": "stdout",
          "text": [
            "high_prevalence_country\n",
            "1    1.0\n",
            "Name: proportion, dtype: float64\n"
          ]
        }
      ]
    },
    {
      "cell_type": "code",
      "source": [
        "# Agrupar por país (entity_encoded) y calcular promedios\n",
        "country_data = df_clean_data.groupby('entity_encoded').agg({\n",
        "    'schizophrenia_disorders': 'mean',\n",
        "    'depressive_disorders': 'mean',\n",
        "    'anxiety_disorders': 'mean',\n",
        "    'bipolar_disorders': 'mean',\n",
        "    'eating_disorders': 'mean',\n",
        "    'high_prevalence_country': 'first'  # Target (asumimos que es constante por país)\n",
        "}).reset_index()\n",
        "\n",
        "# Definir X e y\n",
        "X = country_data.drop(['entity_encoded', 'high_prevalence_country'], axis=1)\n",
        "y = country_data['high_prevalence_country']\n",
        "\n",
        "# Escalar datos\n",
        "from sklearn.preprocessing import StandardScaler\n",
        "scaler = StandardScaler()\n",
        "X_scaled = scaler.fit_transform(X)\n",
        "\n"
      ],
      "metadata": {
        "id": "BExgyVZyB4Hz"
      },
      "execution_count": 20,
      "outputs": []
    },
    {
      "cell_type": "code",
      "source": [
        "import numpy as np\n",
        "\n",
        "print(\"Distribución de clases en y:\", np.unique(y, return_counts=True))\n",
        "\n",
        "# Ejemplo: Usar la mediana en lugar de un percentil fijo\n",
        "threshold = df_clean_data['combined_prevalence'].median()\n",
        "df_clean_data['high_prevalence_country'] = (df_clean_data['combined_prevalence'] >= threshold).astype(int)\n",
        "\n",
        "from sklearn.utils import resample\n",
        "\n",
        "# Balancear las clases (oversampling de la clase minoritaria)\n",
        "class_0 = df_clean_data[df_clean_data['high_prevalence_country'] == 0]\n",
        "class_1 = df_clean_data[df_clean_data['high_prevalence_country'] == 1]\n",
        "\n",
        "class_1_oversampled = resample(class_1, replace=True, n_samples=len(class_0))\n",
        "df_balanced = pd.concat([class_0, class_1_oversampled])\n",
        "\n",
        "# Redefinir X e y con el dataset balanceado\n",
        "X = df_balanced.drop(['high_prevalence_country', 'entity_encoded'], axis=1)\n",
        "y = df_balanced['high_prevalence_country']\n",
        "\n",
        "X_train, X_test, y_train, y_test = train_test_split(X, y, test_size=0.2, random_state=42)\n",
        "print(\"Clases en y_train:\", np.unique(y_train))\n",
        "\n",
        "if len(np.unique(y_train)) >= 2:\n",
        "    model = LogisticRegression(max_iter=1000)\n",
        "    model.fit(X_train, y_train)\n",
        "else:\n",
        "    print(\"Error: y_train no contiene suficientes clases.\")\n",
        "\n",
        "\n",
        "\n"
      ],
      "metadata": {
        "colab": {
          "base_uri": "https://localhost:8080/"
        },
        "id": "z__sppGSCLor",
        "outputId": "a3e2b830-8509-4c91-d9fd-c2cfddf2a70d"
      },
      "execution_count": 21,
      "outputs": [
        {
          "output_type": "stream",
          "name": "stdout",
          "text": [
            "Distribución de clases en y: (array([1]), array([205]))\n",
            "Clases en y_train: [0 1]\n"
          ]
        }
      ]
    },
    {
      "cell_type": "code",
      "source": [
        "# 1. Agrupar datos originales por país (promedio de variables)\n",
        "# Use 'first' or 'last' to get the original binary value\n",
        "country_data = df_clean_data.groupby('entity_encoded').agg({\n",
        "    'schizophrenia_disorders': 'mean',\n",
        "    'depressive_disorders': 'mean',\n",
        "    'anxiety_disorders': 'mean',\n",
        "    'bipolar_disorders': 'mean',\n",
        "    'eating_disorders': 'mean',\n",
        "    'high_prevalence_country': 'first'  # Preserve original target value\n",
        "}).reset_index()\n",
        "\n",
        "# 2. Definir X e y a nivel país\n",
        "X_country = country_data[['schizophrenia_disorders', 'depressive_disorders', 'anxiety_disorders', 'bipolar_disorders', 'eating_disorders']]\n",
        "y_country = country_data['high_prevalence_country']  # Now a binary target\n",
        "\n",
        "# 3. Entrenar modelo y predecir\n",
        "model.fit(X_country, y_country)\n",
        "y_proba_country = model.predict_proba(X_country)[:, 1]\n",
        "\n",
        "# 4. Crear resultados\n",
        "results = pd.DataFrame({\n",
        "    'country_code': country_data['entity_encoded'],\n",
        "    'probability_high_prevalence': y_proba_country\n",
        "})"
      ],
      "metadata": {
        "id": "CdNsHdB8ERbM"
      },
      "execution_count": 22,
      "outputs": []
    }
  ]
}